{
  "nbformat": 4,
  "nbformat_minor": 0,
  "metadata": {
    "colab": {
      "provenance": [],
      "authorship_tag": "ABX9TyNpvUvJM0sHW/Gm/RWxwZU2",
      "include_colab_link": true
    },
    "kernelspec": {
      "name": "python3",
      "display_name": "Python 3"
    },
    "language_info": {
      "name": "python"
    }
  },
  "cells": [
    {
      "cell_type": "markdown",
      "metadata": {
        "id": "view-in-github",
        "colab_type": "text"
      },
      "source": [
        "<a href=\"https://colab.research.google.com/github/Rick279a/Jogo-Pedra-Papel-Tesoura/blob/main/Jogo_Pedra%2C_Papel%2C_Tesoura.ipynb\" target=\"_parent\"><img src=\"https://colab.research.google.com/assets/colab-badge.svg\" alt=\"Open In Colab\"/></a>"
      ]
    },
    {
      "cell_type": "markdown",
      "source": [
        "**bibliotecas**"
      ],
      "metadata": {
        "id": "0szJZx4Ltjvu"
      }
    },
    {
      "cell_type": "code",
      "source": [
        "import random"
      ],
      "metadata": {
        "id": "JRKwwhbctk29"
      },
      "execution_count": null,
      "outputs": []
    },
    {
      "cell_type": "markdown",
      "source": [
        "**Função para jogar**"
      ],
      "metadata": {
        "id": "LjwrboR3ubBV"
      }
    },
    {
      "cell_type": "code",
      "source": [
        "jogar_novamente = True\n",
        "\n",
        "def jogar ():\n",
        "  opcoes = [\"Pedra\", \"Papel\", \"Tesoura\"]\n",
        "\n",
        "  jogador = input(\"Escolha (Pedra, Papel ou Tesoura): \").strip().capitalize()\n",
        "  while jogador not in opcoes:\n",
        "    print(\"Opção inválida!\")\n",
        "    jogador = input(\"Escolha (Pedra, Papel ou Tesoura): \").strip().capitalize()\n",
        "\n",
        "  computador = random.choice(opcoes)\n",
        "\n",
        "  print(f\"Você escolheu: {jogador}\")\n",
        "  print(f\"Computador escolheu: {computador}\")\n",
        "\n",
        "  if jogador == computador:\n",
        "    print(\"Empate !!\")\n",
        "  elif (jogador == \"Pedra\" and computador == \"Tesoura\") or \\\n",
        "       (jogador == \"Papel\" and computador == \"Pedra\") or \\\n",
        "       (jogador == \"Tesoura\" and computador == \"Papel\"):\n",
        "    print(\"Voce ganhou !!\")\n",
        "  else:\n",
        "    print(\"voce perdeu !!\")\n",
        "\n",
        "jogar()"
      ],
      "metadata": {
        "colab": {
          "base_uri": "https://localhost:8080/"
        },
        "id": "op455u7YujT1",
        "outputId": "9923ce4c-3ea1-4093-f1df-a074be49f1c8"
      },
      "execution_count": null,
      "outputs": [
        {
          "output_type": "stream",
          "name": "stdout",
          "text": [
            "Escolha (Pedra, Papel ou Tesoura): pedra\n",
            "Você escolheu: Pedra\n",
            "Computador escolheu: Tesoura\n",
            "Voce ganhou !!\n"
          ]
        }
      ]
    },
    {
      "cell_type": "markdown",
      "source": [
        "**jogar novamente**"
      ],
      "metadata": {
        "id": "G4I-1VGr2-NE"
      }
    },
    {
      "cell_type": "code",
      "source": [
        "jogar_novamente = True\n",
        "\n",
        "while jogar_novamente:\n",
        "  jogar()\n",
        "  jogar_novamente = input(\"Deseja jogar novamente? (Sim/Não): \").lower().startswith(\"s\")\n",
        "\n",
        "if not jogar_novamente:\n",
        "  print(\"Obrigado por jogar!\")"
      ],
      "metadata": {
        "colab": {
          "base_uri": "https://localhost:8080/"
        },
        "id": "uNECPSzr3Dcz",
        "outputId": "0d59caed-e704-45cf-fee5-710bf99668f2"
      },
      "execution_count": null,
      "outputs": [
        {
          "output_type": "stream",
          "name": "stdout",
          "text": [
            "Escolha (Pedra, Papel ou Tesoura: )pepel\n",
            "Você escolheu: Pepel\n",
            "Computador escolheu: pedra\n",
            "voce perdeu !!\n",
            "Deseja jogar novamente? (Sim/Não): nao\n",
            "Obrigado por jogar!\n"
          ]
        }
      ]
    }
  ]
}